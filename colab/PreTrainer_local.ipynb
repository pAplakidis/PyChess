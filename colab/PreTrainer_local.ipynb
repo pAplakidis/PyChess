{
 "cells": [
  {
   "cell_type": "code",
   "execution_count": 1,
   "metadata": {
    "colab": {
     "base_uri": "https://localhost:8080/"
    },
    "id": "p8yvVq625Ru7",
    "outputId": "32d90cf7-5453-4442-8d3e-4c6774834520"
   },
   "outputs": [
    {
     "name": "stdout",
     "output_type": "stream",
     "text": [
      "cuda:0\n"
     ]
    }
   ],
   "source": [
    "import numpy as np\n",
    "from tqdm.notebook import trange\n",
    "import matplotlib.pyplot as plt\n",
    "from matplotlib.pyplot import plot\n",
    "\n",
    "import torch\n",
    "import torch.nn as nn\n",
    "import torch.functional as F\n",
    "from torch.utils.tensorboard import SummaryWriter\n",
    "\n",
    "device = torch.device(\"cuda:0\" if torch.cuda.is_available() else \"cpu\")\n",
    "print(device)"
   ]
  },
  {
   "cell_type": "code",
   "execution_count": 2,
   "metadata": {
    "id": "EkbBk4km6skD"
   },
   "outputs": [],
   "source": [
    "import chess\n",
    "import chess.pgn\n",
    "\n",
    "class State:\n",
    "  def __init__(self, board=None):\n",
    "    if board is None:\n",
    "      self.board = chess.Board()\n",
    "    else:\n",
    "      self.board = board\n",
    "\n",
    "  def serialize(self):\n",
    "    serialized_board = np.zeros(64, np.uint8)\n",
    "    values = {\"P\": 1, \"N\": 2, \"B\": 3, \"R\": 4, \"Q\": 5, \"K\": 6, \\\n",
    "              \"p\": 9, \"n\":10, \"b\":11, \"r\":12, \"q\":13, \"k\": 14}\n",
    "\n",
    "    for i in range(64):\n",
    "      piece = self.board.piece_at(i)\n",
    "      if piece is not None:\n",
    "        serialized_board[i] = values[piece.symbol()]\n",
    "        # TODO: handle special stuff (castling and en passaint)\n",
    "\n",
    "    return serialized_board\n",
    "\n",
    "  def edges(self):\n",
    "    return list(self.board.legal_moves)\n",
    "\n",
    "  # makes \n",
    "  def to_net_input(self):\n",
    "    s_board = self.serialize()\n",
    "    # TODO: pass info about the game, such as who's turn it is, etc\n",
    "    return s_board\n"
   ]
  },
  {
   "cell_type": "code",
   "execution_count": 38,
   "metadata": {
    "colab": {
     "base_uri": "https://localhost:8080/"
    },
    "id": "T_3t7xAilS8f",
    "outputId": "855f979b-fc42-410d-ae71-90c8fe9fcc70"
   },
   "outputs": [
    {
     "name": "stdout",
     "output_type": "stream",
     "text": [
      "(462295, 64)\n",
      "(462295, 1)\n",
      "[[ 4  2  3 ... 11 10 12]\n",
      " [ 4  2  3 ... 11 10 12]\n",
      " [ 4  2  3 ... 11 10 12]\n",
      " ...\n",
      " [ 0  0  0 ...  0  0  0]\n",
      " [ 0  0  0 ...  0  0  0]\n",
      " [ 0  0  0 ...  0  0  0]]\n",
      "[[1]\n",
      " [1]\n",
      " [1]\n",
      " ...\n",
      " [1]\n",
      " [1]\n",
      " [1]]\n"
     ]
    }
   ],
   "source": [
    "data_path = \"../data/preprocessed/full_dataset.npz\"\n",
    "\n",
    "data = np.load(data_path)\n",
    "X_train, Yt = data.f.arr_0, data.f.arr_1\n",
    "\n",
    "Y_train = []\n",
    "for y in Yt:\n",
    "  Y_train.append([y])\n",
    "Y_train = np.array(Y_train)\n",
    "\n",
    "print(X_train.shape)\n",
    "print(Y_train.shape)\n",
    "print(X_train)\n",
    "print(Y_train)"
   ]
  },
  {
   "cell_type": "code",
   "execution_count": 34,
   "metadata": {
    "id": "8Se4-jeYpj3E"
   },
   "outputs": [
    {
     "name": "stdout",
     "output_type": "stream",
     "text": [
      "ValueNet(\n",
      "  (relu): ReLU()\n",
      "  (fc1): Linear(in_features=64, out_features=128, bias=True)\n",
      "  (bn1): BatchNorm1d(128, eps=1e-05, momentum=0.1, affine=True, track_running_stats=True)\n",
      "  (fc2): Linear(in_features=128, out_features=128, bias=True)\n",
      "  (bn2): BatchNorm1d(128, eps=1e-05, momentum=0.1, affine=True, track_running_stats=True)\n",
      "  (fc3): Linear(in_features=128, out_features=1, bias=True)\n",
      ")\n"
     ]
    }
   ],
   "source": [
    "class ValueNet(nn.Module):\n",
    "  def __init__(self, in_len, out_len):\n",
    "    super(ValueNet, self).__init__()\n",
    "    \n",
    "    self.relu = nn.ReLU()\n",
    "    \n",
    "    self.fc1 = nn.Linear(in_len, 128)\n",
    "    self.bn1 = nn.BatchNorm1d(128)\n",
    "    self.fc2 = nn.Linear(128, 128)\n",
    "    self.bn2 = nn.BatchNorm1d(128)\n",
    "    self.fc3 = nn.Linear(128, out_len)\n",
    "\n",
    "  def forward(self, x):\n",
    "    x = self.relu(self.bn1(self.fc1(x)))\n",
    "    x = self.relu(self.bn2(self.fc2(x)))\n",
    "    x = self.fc3(x)\n",
    "    return x\n",
    "\n",
    "  def predict(self, x):\n",
    "    return F.sigmoid(self(x))\n",
    "\n",
    "def save_model(model, path):\n",
    "  torch.save(model.state_dict(), path)\n",
    "  print(\"[+] Model saved at:\", path)\n",
    "\n",
    "def load_model(model, path, val=False):\n",
    "  model.load_state_dict(torch.load_state_dict(torch.load(path)))\n",
    "  if val:\n",
    "    model.eval()\n",
    "  else:\n",
    "    model.train()\n",
    "  print(\"[+] Loaded model from:\", path)\n",
    "  \n",
    "\n",
    "model = ValueNet(X_train.shape[1], 1).to(device)\n",
    "print(model)"
   ]
  },
  {
   "cell_type": "code",
   "execution_count": 39,
   "metadata": {
    "id": "dzptEr7-nG4R"
   },
   "outputs": [
    {
     "name": "stdout",
     "output_type": "stream",
     "text": [
      "[+] Epoch 1\n"
     ]
    },
    {
     "data": {
      "application/vnd.jupyter.widget-view+json": {
       "model_id": "a165348b179842acb349f8bb13565e3c",
       "version_major": 2,
       "version_minor": 0
      },
      "text/plain": [
       "  0%|          | 0/3612 [00:00<?, ?it/s]"
      ]
     },
     "metadata": {},
     "output_type": "display_data"
    },
    {
     "name": "stdout",
     "output_type": "stream",
     "text": [
      "torch.Size([128, 1])\n",
      "torch.Size([128, 1])\n"
     ]
    },
    {
     "ename": "RuntimeError",
     "evalue": "CUDA error: device-side assert triggered\nCUDA kernel errors might be asynchronously reported at some other API call,so the stacktrace below might be incorrect.\nFor debugging consider passing CUDA_LAUNCH_BLOCKING=1.",
     "output_type": "error",
     "traceback": [
      "\u001b[0;31m---------------------------------------------------------------------------\u001b[0m",
      "\u001b[0;31mRuntimeError\u001b[0m                              Traceback (most recent call last)",
      "\u001b[0;32m<ipython-input-39-2263aeb24621>\u001b[0m in \u001b[0;36m<module>\u001b[0;34m\u001b[0m\n\u001b[1;32m     48\u001b[0m \u001b[0;34m\u001b[0m\u001b[0m\n\u001b[1;32m     49\u001b[0m \u001b[0;34m\u001b[0m\u001b[0m\n\u001b[0;32m---> 50\u001b[0;31m \u001b[0mtrain\u001b[0m\u001b[0;34m(\u001b[0m\u001b[0mmodel\u001b[0m\u001b[0;34m,\u001b[0m \u001b[0mX_train\u001b[0m\u001b[0;34m,\u001b[0m \u001b[0mY_train\u001b[0m\u001b[0;34m)\u001b[0m\u001b[0;34m\u001b[0m\u001b[0;34m\u001b[0m\u001b[0m\n\u001b[0m",
      "\u001b[0;32m<ipython-input-39-2263aeb24621>\u001b[0m in \u001b[0;36mtrain\u001b[0;34m(model, X_train, Y_train, X_test, Y_test)\u001b[0m\n\u001b[1;32m     27\u001b[0m       \u001b[0mprint\u001b[0m\u001b[0;34m(\u001b[0m\u001b[0mY\u001b[0m\u001b[0;34m.\u001b[0m\u001b[0mshape\u001b[0m\u001b[0;34m)\u001b[0m\u001b[0;34m\u001b[0m\u001b[0;34m\u001b[0m\u001b[0m\n\u001b[1;32m     28\u001b[0m       \u001b[0mloss\u001b[0m \u001b[0;34m=\u001b[0m \u001b[0mloss_func\u001b[0m\u001b[0;34m(\u001b[0m\u001b[0mout\u001b[0m\u001b[0;34m,\u001b[0m \u001b[0mY\u001b[0m\u001b[0;34m)\u001b[0m\u001b[0;34m.\u001b[0m\u001b[0mmean\u001b[0m\u001b[0;34m(\u001b[0m\u001b[0;34m)\u001b[0m\u001b[0;34m\u001b[0m\u001b[0;34m\u001b[0m\u001b[0m\n\u001b[0;32m---> 29\u001b[0;31m       \u001b[0mloss\u001b[0m\u001b[0;34m.\u001b[0m\u001b[0mbackward\u001b[0m\u001b[0;34m(\u001b[0m\u001b[0;34m)\u001b[0m\u001b[0;34m\u001b[0m\u001b[0;34m\u001b[0m\u001b[0m\n\u001b[0m\u001b[1;32m     30\u001b[0m       \u001b[0moptim\u001b[0m\u001b[0;34m.\u001b[0m\u001b[0mstep\u001b[0m\u001b[0;34m(\u001b[0m\u001b[0;34m)\u001b[0m\u001b[0;34m\u001b[0m\u001b[0;34m\u001b[0m\u001b[0m\n\u001b[1;32m     31\u001b[0m \u001b[0;34m\u001b[0m\u001b[0m\n",
      "\u001b[0;32m~/.local/lib/python3.8/site-packages/torch/_tensor.py\u001b[0m in \u001b[0;36mbackward\u001b[0;34m(self, gradient, retain_graph, create_graph, inputs)\u001b[0m\n\u001b[1;32m    253\u001b[0m                 \u001b[0mcreate_graph\u001b[0m\u001b[0;34m=\u001b[0m\u001b[0mcreate_graph\u001b[0m\u001b[0;34m,\u001b[0m\u001b[0;34m\u001b[0m\u001b[0;34m\u001b[0m\u001b[0m\n\u001b[1;32m    254\u001b[0m                 inputs=inputs)\n\u001b[0;32m--> 255\u001b[0;31m         \u001b[0mtorch\u001b[0m\u001b[0;34m.\u001b[0m\u001b[0mautograd\u001b[0m\u001b[0;34m.\u001b[0m\u001b[0mbackward\u001b[0m\u001b[0;34m(\u001b[0m\u001b[0mself\u001b[0m\u001b[0;34m,\u001b[0m \u001b[0mgradient\u001b[0m\u001b[0;34m,\u001b[0m \u001b[0mretain_graph\u001b[0m\u001b[0;34m,\u001b[0m \u001b[0mcreate_graph\u001b[0m\u001b[0;34m,\u001b[0m \u001b[0minputs\u001b[0m\u001b[0;34m=\u001b[0m\u001b[0minputs\u001b[0m\u001b[0;34m)\u001b[0m\u001b[0;34m\u001b[0m\u001b[0;34m\u001b[0m\u001b[0m\n\u001b[0m\u001b[1;32m    256\u001b[0m \u001b[0;34m\u001b[0m\u001b[0m\n\u001b[1;32m    257\u001b[0m     \u001b[0;32mdef\u001b[0m \u001b[0mregister_hook\u001b[0m\u001b[0;34m(\u001b[0m\u001b[0mself\u001b[0m\u001b[0;34m,\u001b[0m \u001b[0mhook\u001b[0m\u001b[0;34m)\u001b[0m\u001b[0;34m:\u001b[0m\u001b[0;34m\u001b[0m\u001b[0;34m\u001b[0m\u001b[0m\n",
      "\u001b[0;32m~/.local/lib/python3.8/site-packages/torch/autograd/__init__.py\u001b[0m in \u001b[0;36mbackward\u001b[0;34m(tensors, grad_tensors, retain_graph, create_graph, grad_variables, inputs)\u001b[0m\n\u001b[1;32m    145\u001b[0m         \u001b[0mretain_graph\u001b[0m \u001b[0;34m=\u001b[0m \u001b[0mcreate_graph\u001b[0m\u001b[0;34m\u001b[0m\u001b[0;34m\u001b[0m\u001b[0m\n\u001b[1;32m    146\u001b[0m \u001b[0;34m\u001b[0m\u001b[0m\n\u001b[0;32m--> 147\u001b[0;31m     Variable._execution_engine.run_backward(\n\u001b[0m\u001b[1;32m    148\u001b[0m         \u001b[0mtensors\u001b[0m\u001b[0;34m,\u001b[0m \u001b[0mgrad_tensors_\u001b[0m\u001b[0;34m,\u001b[0m \u001b[0mretain_graph\u001b[0m\u001b[0;34m,\u001b[0m \u001b[0mcreate_graph\u001b[0m\u001b[0;34m,\u001b[0m \u001b[0minputs\u001b[0m\u001b[0;34m,\u001b[0m\u001b[0;34m\u001b[0m\u001b[0;34m\u001b[0m\u001b[0m\n\u001b[1;32m    149\u001b[0m         allow_unreachable=True, accumulate_grad=True)  # allow_unreachable flag\n",
      "\u001b[0;31mRuntimeError\u001b[0m: CUDA error: device-side assert triggered\nCUDA kernel errors might be asynchronously reported at some other API call,so the stacktrace below might be incorrect.\nFor debugging consider passing CUDA_LAUNCH_BLOCKING=1."
     ]
    }
   ],
   "source": [
    "model_path = \"../models/chess_model.pth\"\n",
    "\n",
    "def train(model, X_train, Y_train, X_test=None, Y_test=None):\n",
    "  lr = 1e-3\n",
    "  #epochs = 100\n",
    "  epochs = 10\n",
    "  BS = 128\n",
    "\n",
    "  losses, accuracies = [], []\n",
    "\n",
    "  loss_func = nn.BCELoss()\n",
    "  optim = torch.optim.Adam(model.parameters(), lr=lr)\n",
    "\n",
    "  for epoch in range(epochs):\n",
    "    print(\"[+] Epoch\", epoch+1)\n",
    "    epoch_losses = []\n",
    "    epoch_acc = []\n",
    "    for i in (t := trange(0, len(X_train), BS)):\n",
    "      X = torch.tensor(X_train[i:i+BS]).float().to(device)\n",
    "      Y = torch.tensor(Y_train[i:i+BS]).float().to(device)\n",
    "\n",
    "      optim.zero_grad()\n",
    "      out = model(X)\n",
    "      cat = torch.round(out)\n",
    "      accuracy = (cat == Y).float().mean()\n",
    "      loss = loss_func(out, Y).mean()\n",
    "      loss.backward()\n",
    "      optim.step()\n",
    "\n",
    "      # TODO: stats (add tensorboard as well)\n",
    "      epoch_accuracies.append(accuracy.item())\n",
    "      epoch_losses.append(loss.item())\n",
    "      ecoch_acc.append(accuracy.item())\n",
    "      t.set_description(\"loss %.2f, acc %.2f\"%(loss, accuracy))\n",
    "      \n",
    "    avg_acc = np.array(epoch_acc).mean()\n",
    "    avg_loss = np.array(epoch_losses).mean()\n",
    "    print(\"[~] Avg Epoch Loss %.2f - Accuracy %.2f\"%(avg_acc, avg_loss))\n",
    "    accuracies.append(avg_acc)\n",
    "    losses.append(avg_loss)\n",
    "\n",
    "  print(\"[+] Training Done!\")\n",
    "  plt.plot(losses)\n",
    "  plt.plot(accuracies)\n",
    "  plt.show()\n",
    "      \n",
    "      \n",
    "train(model, X_train, Y_train)"
   ]
  },
  {
   "cell_type": "code",
   "execution_count": null,
   "metadata": {},
   "outputs": [],
   "source": []
  }
 ],
 "metadata": {
  "accelerator": "GPU",
  "colab": {
   "collapsed_sections": [],
   "provenance": []
  },
  "gpuClass": "standard",
  "kernelspec": {
   "display_name": "Python 3",
   "language": "python",
   "name": "python3"
  },
  "language_info": {
   "codemirror_mode": {
    "name": "ipython",
    "version": 3
   },
   "file_extension": ".py",
   "mimetype": "text/x-python",
   "name": "python",
   "nbconvert_exporter": "python",
   "pygments_lexer": "ipython3",
   "version": "3.8.5"
  }
 },
 "nbformat": 4,
 "nbformat_minor": 1
}
