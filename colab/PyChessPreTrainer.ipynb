{
  "nbformat": 4,
  "nbformat_minor": 0,
  "metadata": {
    "colab": {
      "provenance": [],
      "collapsed_sections": []
    },
    "kernelspec": {
      "name": "python3",
      "display_name": "Python 3"
    },
    "language_info": {
      "name": "python"
    },
    "accelerator": "GPU",
    "gpuClass": "standard"
  },
  "cells": [
    {
      "cell_type": "code",
      "execution_count": 4,
      "metadata": {
        "colab": {
          "base_uri": "https://localhost:8080/"
        },
        "id": "p8yvVq625Ru7",
        "outputId": "32d90cf7-5453-4442-8d3e-4c6774834520"
      },
      "outputs": [
        {
          "output_type": "stream",
          "name": "stdout",
          "text": [
            "Python 3.7.15\n",
            "Looking in indexes: https://pypi.org/simple, https://us-python.pkg.dev/colab-wheels/public/simple/\n",
            "Requirement already satisfied: chess in /usr/local/lib/python3.7/dist-packages (1.9.3)\n",
            "cuda:0\n"
          ]
        }
      ],
      "source": [
        "!python --version\n",
        "!pip install chess\n",
        "\n",
        "import numpy as np\n",
        "from tqdm.notebook import trange\n",
        "import matplotlib.pyplot as plt\n",
        "from matplotlib.pyplot import plot\n",
        "\n",
        "import torch\n",
        "import torch.nn as nn\n",
        "import torch.functional as F\n",
        "from torch.utils.tensorboard import SummaryWriter\n",
        "\n",
        "device = torch.device(\"cuda:0\" if torch.cuda.is_available() else \"cpu\")\n",
        "print(device)"
      ]
    },
    {
      "cell_type": "code",
      "source": [
        "from google.colab import drive\n",
        "drive.mount('/content/drive')"
      ],
      "metadata": {
        "colab": {
          "base_uri": "https://localhost:8080/"
        },
        "id": "toEiscfC6QkB",
        "outputId": "5fe670f5-20f7-4083-ccc6-a16c4ac8668e"
      },
      "execution_count": 2,
      "outputs": [
        {
          "output_type": "stream",
          "name": "stdout",
          "text": [
            "Mounted at /content/drive\n"
          ]
        }
      ]
    },
    {
      "cell_type": "code",
      "source": [
        "import chess\n",
        "import chess.pgn\n",
        "\n",
        "class State:\n",
        "  def __init__(self, board=None):\n",
        "    if board is None:\n",
        "      self.board = chess.Board()\n",
        "    else:\n",
        "      self.board = board\n",
        "\n",
        "  def serialize(self):\n",
        "    serialized_board = np.zeros(64, np.uint8)\n",
        "    values = {\"P\": 1, \"N\": 2, \"B\": 3, \"R\": 4, \"Q\": 5, \"K\": 6, \\\n",
        "              \"p\": 9, \"n\":10, \"b\":11, \"r\":12, \"q\":13, \"k\": 14}\n",
        "\n",
        "    for i in range(64):\n",
        "      piece = self.board.piece_at(i)\n",
        "      if piece is not None:\n",
        "        serialized_board[i] = values[piece.symbol()]\n",
        "        # TODO: handle special stuff (castling and en passaint)\n",
        "\n",
        "    return serialized_board\n",
        "\n",
        "  def edges(self):\n",
        "    return list(self.board.legal_moves)\n",
        "\n",
        "  # makes \n",
        "  def to_net_input(self):\n",
        "    s_board = self.serialize()\n",
        "    # TODO: pass info about the game, such as who's turn it is, etc\n",
        "    return s_board\n"
      ],
      "metadata": {
        "id": "EkbBk4km6skD"
      },
      "execution_count": 5,
      "outputs": []
    },
    {
      "cell_type": "code",
      "source": [
        "data_path = \"/content/drive/MyDrive/full_dataset.npz\"\n",
        "\n",
        "data = np.load(data_path)\n",
        "X, Y = data.f.arr_0, data.f.arr_1\n",
        "\n",
        "print(X.shape)\n",
        "print(Y.shape)\n",
        "print(X)\n",
        "print(Y)"
      ],
      "metadata": {
        "colab": {
          "base_uri": "https://localhost:8080/"
        },
        "id": "T_3t7xAilS8f",
        "outputId": "855f979b-fc42-410d-ae71-90c8fe9fcc70"
      },
      "execution_count": 16,
      "outputs": [
        {
          "output_type": "stream",
          "name": "stdout",
          "text": [
            "(1161377, 64)\n",
            "(1161377,)\n",
            "[[ 4  2  3 ... 11 10 12]\n",
            " [ 4  2  3 ... 11 10 12]\n",
            " [ 4  2  3 ... 11 10 12]\n",
            " ...\n",
            " [ 0  0  0 ... 10  0  0]\n",
            " [ 0  0  0 ... 10  0  0]\n",
            " [ 0  0  0 ... 10  0  0]]\n",
            "[1 1 1 ... 1 1 1]\n"
          ]
        }
      ]
    },
    {
      "cell_type": "code",
      "source": [
        "# TODO: write this\n",
        "class ValueNet(nn.Module):\n",
        "  def __init__(self, in_len, out_len):\n",
        "    super(ValueNet, self).__init__()\n",
        "    self.fc1 = nn.Linear(in_len, 128)\n",
        "    self.bn1 = nn.BatchNorm1d(128)\n",
        "    self.fc2 = nn.Linear(128, 128)\n",
        "    self.bn2 = nn.Linear(128)\n",
        "    self.fc3 = nn.Linear(128, out_len)\n",
        "\n",
        "  def forward(self, x):\n",
        "    x = F.ReLU(self.bn1(self.fc1(x)))\n",
        "    x = F.ReLU(self.bn2(self.fc2(x)))\n",
        "    x = self.fc3(x)\n",
        "    return x\n",
        "\n",
        "def predict(model, x):\n",
        "  return F.sigmoid(model(x))\n",
        "\n",
        "def save_model(model, path):\n",
        "  torch.save(model.state_dict(), path)\n",
        "  print(\"[+] Model saved at:\", path)\n",
        "\n",
        "def load_model(model, path, val=False):\n",
        "  model.load_state_dict(torch.load_state_dict(torch.load(path)))\n",
        "  if val:\n",
        "    model.eval()\n",
        "  else:\n",
        "    model.train()\n",
        "  print(\"[+] Loaded model from:\", path)"
      ],
      "metadata": {
        "id": "8Se4-jeYpj3E"
      },
      "execution_count": null,
      "outputs": []
    },
    {
      "cell_type": "code",
      "source": [
        "model_path = \"/content/drive/MyDrive/chess_model.pth\"\n",
        "\n",
        "def train(model, X_train, Y_train, X_test=None, Y_test=None):\n",
        "  lr = 1e-3\n",
        "  epochs = 100\n",
        "  BS = 128\n",
        "\n",
        "  losses, accuracies = [], []\n",
        "\n",
        "  loss_func = nn.BCELoss()\n",
        "  optim = torch.optim.Adam(model.parameters(), lr=lr)\n",
        "\n",
        "  for epoch in epochs:\n",
        "    print(\"[+] Epoch\", epoch+1)\n",
        "    for i in (t := trange(0, len(X_train), BS)):\n",
        "      X = torch.tensor(X_train[i:i+BS]).float().to(device)\n",
        "      Y = torch.tensor(Y_train[i:i+BS]).float().to(device)\n",
        "\n",
        "      optim.zero_grad()\n",
        "      out = model(X)\n",
        "      loss = loss_func(out, Y).mean()\n",
        "      loss.backward()\n",
        "      optim.step()\n",
        "\n",
        "      # TODO: stats (add tensorboard as well)"
      ],
      "metadata": {
        "id": "dzptEr7-nG4R"
      },
      "execution_count": null,
      "outputs": []
    }
  ]
}